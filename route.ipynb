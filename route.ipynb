{
 "cells": [
  {
   "cell_type": "markdown",
   "id": "feb1843b-32e0-4a04-bc0d-c598f9eff833",
   "metadata": {},
   "source": [
    "# Readable map"
   ]
  },
  {
   "cell_type": "markdown",
   "id": "c76d8fc2-4cc3-4d72-8483-d047ef2e8394",
   "metadata": {},
   "source": [
    "## Install packages\n",
    "Best is to start a new environment, assuming your using [anaconda](https://www.anaconda.com/) see [anaconda documentation](https://conda.io/projects/conda/en/latest/user-guide/tasks/manage-environments.html)"
   ]
  },
  {
   "cell_type": "markdown",
   "id": "06863e8c-cc7b-4b6c-8766-b931589346ce",
   "metadata": {},
   "source": [
    "basic ones included with most python"
   ]
  },
  {
   "cell_type": "code",
   "execution_count": 1,
   "id": "995fb693-dd09-4173-b732-ce1eaff05188",
   "metadata": {},
   "outputs": [],
   "source": [
    "import base64\n",
    "import os\n",
    "from time import sleep\n",
    "import io\n",
    "from pathlib import Path\n",
    "import requests"
   ]
  },
  {
   "cell_type": "markdown",
   "id": "5ea1748f-c842-45e6-ab47-ef01b2fb635b",
   "metadata": {},
   "source": [
    "probably need to add a few, you can uncomment the ones needed"
   ]
  },
  {
   "cell_type": "code",
   "execution_count": 2,
   "id": "3d1b4762-b084-4e2f-b0b9-3d2852e354db",
   "metadata": {},
   "outputs": [],
   "source": [
    "# data management and reading files\n",
    "import pandas as pd\n",
    "import openpyxl\n",
    "\n",
    "# geopackages\n",
    "import folium\n",
    "from geopy.geocoders import Nominatim"
   ]
  },
  {
   "cell_type": "code",
   "execution_count": 3,
   "id": "7b6be887-633c-486f-a97b-5cc09bd051a3",
   "metadata": {},
   "outputs": [],
   "source": [
    "# pip install pandas openpyxl"
   ]
  },
  {
   "cell_type": "code",
   "execution_count": 4,
   "id": "b94c2fc4-4cba-44cd-9e97-fdcbf61c6f25",
   "metadata": {},
   "outputs": [],
   "source": [
    "# pip install folium geopy"
   ]
  },
  {
   "cell_type": "code",
   "execution_count": 5,
   "id": "182eb210-333f-473c-b17d-1d6faf723f92",
   "metadata": {},
   "outputs": [],
   "source": [
    "import reportlab"
   ]
  },
  {
   "cell_type": "code",
   "execution_count": 6,
   "id": "d6eb6c39-5c4e-4de3-809f-e13a36bc01c2",
   "metadata": {},
   "outputs": [],
   "source": [
    "# pdf editios\n",
    "from reportlab.pdfgen import canvas\n",
    "from reportlab.lib.pagesizes import A4\n",
    "from PyPDF2 import PdfWriter, PdfReader"
   ]
  },
  {
   "cell_type": "code",
   "execution_count": 7,
   "id": "732fc440-0155-4684-a7c3-bce2494f1afb",
   "metadata": {},
   "outputs": [],
   "source": [
    "# pip install reportlab PyPDF2"
   ]
  },
  {
   "cell_type": "code",
   "execution_count": 8,
   "id": "0d732756-1dcc-4f2c-974f-b4cc6ed33808",
   "metadata": {},
   "outputs": [],
   "source": [
    "# screenshot/chrome editor\n",
    "from selenium import webdriver\n",
    "from selenium.webdriver.common.print_page_options import PrintOptions"
   ]
  },
  {
   "cell_type": "code",
   "execution_count": 9,
   "id": "72966af6-ab48-4eea-b4f1-f6d4169358a8",
   "metadata": {},
   "outputs": [],
   "source": [
    "# pip install selenium"
   ]
  },
  {
   "cell_type": "markdown",
   "id": "f5f56d06-ce9b-454b-8805-6127e0e17f72",
   "metadata": {},
   "source": [
    "If Selenium doesn't work with `pip install selenium`, it requires some more setup, see [the docs for info](https://selenium-python.readthedocs.io/installation.html), you need the correct drivers, e.g.:\n",
    "[Chrome](https://sites.google.com/chromium.org/driver/)\n",
    "[Edge](https://developer.microsoft.com/en-us/microsoft-edge/tools/webdriver/)\n",
    "[Firefox](https://github.com/mozilla/geckodriver/releases)\n",
    "[Safari](https://webkit.org/blog/6900/webdriver-support-in-safari-10/)\n",
    "\n",
    "Also try reboot or a new environment"
   ]
  },
  {
   "cell_type": "markdown",
   "id": "8951fb3b-7048-4b94-b3f1-8c264adc1de7",
   "metadata": {},
   "source": [
    "I used the versions listen below. newer versions may cause issues"
   ]
  },
  {
   "cell_type": "code",
   "execution_count": 17,
   "id": "6051d78a-acc5-40bf-aec4-3c240e8e3948",
   "metadata": {},
   "outputs": [],
   "source": [
    "import selenium, PyPDF2, reportlab"
   ]
  },
  {
   "cell_type": "code",
   "execution_count": 20,
   "id": "f681ded1-72f7-4030-8e59-be8cb18b031a",
   "metadata": {},
   "outputs": [
    {
     "data": {
      "text/plain": [
       "('4.31.1', '3.0.1', '4.2.2', '0.17.0')"
      ]
     },
     "execution_count": 20,
     "metadata": {},
     "output_type": "execute_result"
    }
   ],
   "source": [
    "selenium.__version__, PyPDF2.__version__, reportlab.__version__, folium.__version__"
   ]
  },
  {
   "cell_type": "markdown",
   "id": "52b103e1-6023-4d78-b4a2-d291e79101b5",
   "metadata": {},
   "source": [
    "# Run code"
   ]
  },
  {
   "cell_type": "code",
   "execution_count": 22,
   "id": "6dbeed59-1df7-4592-8c65-47f82b7aaa30",
   "metadata": {},
   "outputs": [
    {
     "name": "stdout",
     "output_type": "stream",
     "text": [
      "Waiting till map is loaded...\n",
      "Saved\n",
      "failed to verify if browser is closed\n",
      "Waiting till map is loaded...\n",
      "Saved\n",
      "Waiting till map is loaded...\n",
      "Saved\n",
      "Waiting till map is loaded...\n",
      "Saved\n",
      "failed to verify if browser is closed\n"
     ]
    }
   ],
   "source": [
    "# Lees de tabel met adressen (bijvoorbeeld van een CSV-bestand)\n",
    "# data_csv = pd.read_excel(\"adressen.csv\", delimiter=\";\")  # Zorg ervoor dat de CSV-kolommen juist zijn benoemd\n",
    "data_csv = pd.read_excel(\"adressen.xlsx\").\n",
    "\n",
    "# Geocoder initialiseren\n",
    "geolocator = Nominatim(user_agent=\"my_geocoder\")\n",
    "\n",
    "def get_osm_route(origin, inter_1, inter_2, inter_3, end):\n",
    "    # url = f\"https://map.project-osrm.org/?z=11&center={origin[0]}%2C{origin[1]}&loc={origin[0]}%2C{origin[1]}&loc={inter_1[0]}%2C{inter_1[1]}&loc={inter_2[0]}%2C{inter_2[1]}&loc={inter_3[0]}%2C{inter_3[1]}&loc={end[0]}%2C{end[1]}&hl=en&alt=0&srv=1\"\n",
    "    url = f\"http://router.project-osrm.org/route/v1/bike/{origin[1]},{origin[0]};{origin[1]},{origin[0]};{inter_1[1]},{inter_1[0]};{inter_2[1]},{inter_2[0]};{inter_3[1]},{inter_3[0]};{end[1]},{end[0]}?overview=full&geometries=geojson\"\n",
    "    response = requests.get(url)\n",
    "    # return response\n",
    "    data = response.json()\n",
    "    if 'routes' in data and len(data['routes']) > 0:\n",
    "        geometry = data['routes'][0]['geometry']['coordinates']\n",
    "        route = [(point[1], point[0]) for point in geometry]\n",
    "        return route\n",
    "    else:\n",
    "        return []\n",
    "    return url\n",
    "\n",
    "def bounding_box(points):\n",
    "    x_coordinates, y_coordinates = zip(*points)\n",
    "\n",
    "    return [(min(x_coordinates), min(y_coordinates)), (max(x_coordinates), max(y_coordinates))]\n",
    "    \n",
    "# Loop door elke rij in de tabel\n",
    "for index, row in data_csv.iterrows():\n",
    "    # Haal de adressen op uit de huidige rij\n",
    "    addresses = [\n",
    "        row['Adres1'],\n",
    "        row['Adres2'],\n",
    "        row['Adres3'],\n",
    "        row['Adres4'],\n",
    "        row['Adres5']\n",
    "    ]\n",
    "    # Coördinaten ophalen met geocoding\n",
    "    coordinates = []\n",
    "    for addr in addresses:\n",
    "        location = geolocator.geocode(addr)\n",
    "        if location:\n",
    "            coordinates.append((location.latitude, location.longitude))\n",
    "        else:\n",
    "            print(f'Ik kon dit adres: {addr} niet vinden, controleer de spelling!')\n",
    "    # Kaart initialiseren\n",
    "    center_lat = sum(coord[0] for coord in coordinates) / len(coordinates)\n",
    "    center_lng = sum(coord[1] for coord in coordinates) / len(coordinates)\n",
    "    m = folium.Map(location=[center_lat, center_lng], zoom_start=15.8, zoom_control=False, scrollWheelZoom=False,dragging=False)\n",
    "    ### evnt andere kaart type\n",
    "    # folium.TileLayer('cartodbdark_matter').add_to(m)\n",
    "    # print(coordinates,addresses)\n",
    "    # Markeringen toevoegen voor de adressen\n",
    "    for i, addr in enumerate(addresses):\n",
    "        folium.Marker(coordinates[i], popup=addr).add_to(m)\n",
    "        if i == len(addresses)-1:\n",
    "            pass\n",
    "        else:\n",
    "            folium.Marker(coordinates[i],icon=folium.DivIcon(html=f\"\"\"<div style='color: blue; fill= white'>{i+1}:{addr.split(\",\")[0]}</div>\"\"\")).add_to(m)\n",
    "    \n",
    "    # Fietsroute PolyLine toevoegen\n",
    "    route_coords = coordinates\n",
    "    route = get_osm_route(route_coords[0], route_coords[1], route_coords[2], route_coords[3], route_coords[-1])\n",
    "    \n",
    "    # folium.PolyLine(route, color=\"blue\").add_to(m)\n",
    "    m.fit_bounds(bounding_box(route), max_zoom=24)  # Zoom to route map\n",
    "\n",
    "    # Opslaan als HTML-bestand\n",
    "    path = Path.cwd()\n",
    "    ouput_path = path / 'output'\n",
    "    ouput_path.mkdir(exist_ok=True)\n",
    "    \n",
    "    html_file = ouput_path / f\"fietsroutes_{index+1}.html\"\n",
    "    screenshot_file = ouput_path / f\"Route_{index+1}.pdf\"\n",
    "    m.save(html_file)\n",
    "\n",
    "    htmlpath = html_file \n",
    "    browser = webdriver.Chrome()\n",
    "    browser.get(str(htmlpath))\n",
    "\n",
    "    print(\"Waiting till map is loaded...\")\n",
    "    sleep(2)\n",
    "\n",
    "    print_options = PrintOptions()\n",
    "    print_options.margin_top = 0.0\n",
    "    print_options.margin_bottom = 0.0\n",
    "    print_options.margin_left = 0.0\n",
    "    print_options.margin_right = 0.0\n",
    "    print_options.shrink_to_fit = True\n",
    "    print_options.orientation = \"landscape\"\n",
    "\n",
    "    pdf_as_base64 = browser.print_page(print_options=print_options)\n",
    "    convertedbytes = base64.b64decode(pdf_as_base64)\n",
    "    with open(screenshot_file, 'wb') as pdf:\n",
    "        pdf.write(convertedbytes)\n",
    "\n",
    "    # adjust text accordingly\n",
    "    tijden = [\"\",\"(Aankomst:18.00)\",\"(Aankomst:18.45)\",\"(Aankomst:19.30)\",\"(Aankomst:20.15)\"]\n",
    "    packet = io.BytesIO()\n",
    "    can = canvas.Canvas(packet, pagesize=A4)\n",
    "    split_n = 3\n",
    "    can.setFillColorRGB(0.827,0.827, 0.827)\n",
    "    can.rect(16,7,550,50, fill=1)\n",
    "    can.rect(9,572,15,15, fill=1)\n",
    "    can.setFillColorRGB(0,0,0)\n",
    "    can.drawString(10, 575, f'{index+1}')\n",
    "    can.drawString(20, 10, \"Houd te allen tijde je mouwtjeshemd SCHOON en wees op tijd\")\n",
    "    can.drawString(20, 40, \", \".join([f'{i+1}:{addr.split(\",\")[0]}{tijden[i]}' for i, addr in enumerate(addresses[:split_n])]))\n",
    "    can.drawString(20, 25, \", \".join([f'{i+1+split_n}:{addr.split(\",\")[0]}{tijden[i+split_n]}' for i, addr in enumerate(addresses[split_n:])]))\n",
    "\n",
    "    \n",
    "    can.save()\n",
    "    \n",
    "    #move to the beginning of the StringIO buffer\n",
    "    packet.seek(0)\n",
    "    \n",
    "    # create a new PDF with Reportlab\n",
    "    new_pdf = PdfReader(packet)\n",
    "    # read your existing PDF\n",
    "    existing_pdf = PdfReader(open(screenshot_file, \"rb\"))\n",
    "    output = PdfWriter()\n",
    "    # add the \"watermark\" (which is the new pdf) on the existing page\n",
    "    page = existing_pdf.pages[0]\n",
    "    page.merge_page(new_pdf.pages[0])\n",
    "    output.add_page(page)\n",
    "    # finally, write \"output\" to a real file\n",
    "    output_stream = open(screenshot_file, \"wb\")\n",
    "    output.write(output_stream)\n",
    "    output_stream.close()\n",
    "    print(\"Saved\")\n",
    "    try:\n",
    "        browser.close()\n",
    "    except:\n",
    "        print('failed to verify if browser is closed')\n",
    "        del browser\n"
   ]
  },
  {
   "cell_type": "code",
   "execution_count": null,
   "id": "23e4fcb1-d6ff-42d4-ac97-b5fa757c5ef4",
   "metadata": {},
   "outputs": [],
   "source": []
  }
 ],
 "metadata": {
  "kernelspec": {
   "display_name": "Python 3 (ipykernel)",
   "language": "python",
   "name": "python3"
  },
  "language_info": {
   "codemirror_mode": {
    "name": "ipython",
    "version": 3
   },
   "file_extension": ".py",
   "mimetype": "text/x-python",
   "name": "python",
   "nbconvert_exporter": "python",
   "pygments_lexer": "ipython3",
   "version": "3.12.5"
  }
 },
 "nbformat": 4,
 "nbformat_minor": 5
}
